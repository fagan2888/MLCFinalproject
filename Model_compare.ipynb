{
 "cells": [
  {
   "cell_type": "markdown",
   "metadata": {},
   "source": [
    "# Run codes with the notation \"#Run\""
   ]
  },
  {
   "cell_type": "code",
   "execution_count": 1,
   "metadata": {},
   "outputs": [],
   "source": [
    "#Run\n",
    "import pandas as pd\n",
    "import numpy as np\n",
    "from sklearn.ensemble import RandomForestRegressor\n",
    "import matplotlib.pyplot as plt\n",
    "from sklearn.metrics import confusion_matrix\n",
    "%matplotlib inline"
   ]
  },
  {
   "cell_type": "markdown",
   "metadata": {},
   "source": [
    "# Read the data to train"
   ]
  },
  {
   "cell_type": "code",
   "execution_count": 2,
   "metadata": {},
   "outputs": [],
   "source": [
    "res = pd.read_csv('train_data.csv')\n",
    "zipcode = pd.read_csv('citibike_zipcode.csv')\n",
    "sales_price = pd.read_csv('sales_price.csv')\n"
   ]
  },
  {
   "cell_type": "code",
   "execution_count": 3,
   "metadata": {},
   "outputs": [],
   "source": [
    "res = res.merge(zipcode, left_on='start_station_id', right_on='startstationid', how='left')\n",
    "res = res.merge(sales_price, left_on='startzip', right_on='startzip', how='left').dropna()"
   ]
  },
  {
   "cell_type": "code",
   "execution_count": 4,
   "metadata": {},
   "outputs": [],
   "source": [
    "res['icon_code'] = res['icon'].astype('category').cat.codes\n",
    "res['holiday_code'] = res['holiday'].astype('category').cat.codes\n",
    "res['weekday_code'] = res['weekday'].astype('category').cat.codes\n",
    "res['startzip_code'] = res['startzip'].astype('category').cat.codes"
   ]
  },
  {
   "cell_type": "code",
   "execution_count": 5,
   "metadata": {},
   "outputs": [],
   "source": [
    "icon_map = dict( zip( res['icon'], res['icon_code'] ) )\n",
    "holiday_map = dict( zip( res['holiday'], res['holiday_code'] ) )\n",
    "weekday_map = dict( zip( res['weekday'], res['weekday_code'] ) )\n",
    "station_zipcode_map = dict( zip( res['start_station_id'], res['startzip_code'] ) )\n",
    "station_salesprice_map = dict( zip( res['start_station_id'], res['startsaleprice'] ) )"
   ]
  },
  {
   "cell_type": "code",
   "execution_count": 6,
   "metadata": {},
   "outputs": [],
   "source": [
    "cols = ['start_station_id','apparent_temperature', 'cloud_cover', \n",
    "        'humidity', 'icon_code' ,'precipAccumulation',\n",
    "        'precip_intensity', 'temperature', 'uv_index', 'visibility', 'wind_speed',\n",
    "        'holiday_code',  'weekday_code', 'startzip', 'startsaleprice']\n"
   ]
  },
  {
   "cell_type": "code",
   "execution_count": 7,
   "metadata": {},
   "outputs": [
    {
     "data": {
      "text/plain": [
       "start_station_id          int64\n",
       "apparent_temperature    float64\n",
       "cloud_cover             float64\n",
       "humidity                float64\n",
       "icon_code                  int8\n",
       "precipAccumulation      float64\n",
       "precip_intensity        float64\n",
       "temperature             float64\n",
       "uv_index                float64\n",
       "visibility              float64\n",
       "wind_speed              float64\n",
       "holiday_code               int8\n",
       "weekday_code               int8\n",
       "startzip                float64\n",
       "startsaleprice          float64\n",
       "dtype: object"
      ]
     },
     "execution_count": 7,
     "metadata": {},
     "output_type": "execute_result"
    }
   ],
   "source": [
    "y = rent_y = res['rent_freq'].dropna()\n",
    "return_y = res['return_freq'].dropna()\n",
    "x = res[cols].dropna()\n",
    "x.dtypes"
   ]
  },
  {
   "cell_type": "markdown",
   "metadata": {},
   "source": [
    "## Split the data"
   ]
  },
  {
   "cell_type": "code",
   "execution_count": 8,
   "metadata": {},
   "outputs": [],
   "source": [
    "from sklearn.model_selection import train_test_split\n",
    "x_train, x_test, y_train, y_test=train_test_split(x,y,test_size=0.25)\n",
    "return_x_train, return_x_test, return_y_train, return_y_test=train_test_split(x,return_y,test_size=0.25)"
   ]
  },
  {
   "cell_type": "markdown",
   "metadata": {},
   "source": [
    "## Random Forest Regression"
   ]
  },
  {
   "cell_type": "code",
   "execution_count": 9,
   "metadata": {},
   "outputs": [],
   "source": [
    "def RMSLE(y,ypred):\n",
    "    y=np.nan_to_num(y)\n",
    "    ypred=np.nan_to_num(ypred)\n",
    "    calc=(ypred-y)**2\n",
    "    return np.sqrt(np.mean(calc))"
   ]
  },
  {
   "cell_type": "code",
   "execution_count": 10,
   "metadata": {},
   "outputs": [],
   "source": [
    "# from sklearn.model_selection import GridSearchCV\n",
    "# import sklearn\n",
    "# rmsle_scorer=sklearn.metrics.make_scorer(RMSLE,greater_is_better=False)\n",
    "\n",
    "# clf_4_cs=RandomForestRegressor()\n",
    "# param={'n_estimators':[200,300,400],'max_depth':[8,9,10]}\n",
    "# grid_4_cs=GridSearchCV(clf_4_cs,param_grid=param,scoring=rmsle_scorer,cv=5,n_jobs=-1,verbose=2)\n",
    "# grid_4_cs.fit(x_train, y_train)\n",
    "# print (\"Best params\",grid_4_cs.best_params_)\n",
    "# print (\"RMSLE score for casual train %f\" %(RMSLE(y_train, grid_4_cs.predict(x_train))))\n",
    "# print (\"RMSLE score for casual test %f\" %(RMSLE(y_test, grid_4_cs.predict(x_test))))"
   ]
  },
  {
   "cell_type": "markdown",
   "metadata": {},
   "source": [
    "### Rent RFR"
   ]
  },
  {
   "cell_type": "code",
   "execution_count": null,
   "metadata": {
    "scrolled": true
   },
   "outputs": [],
   "source": [
    "#DO NOT RERUN!!!\n",
    "from sklearn.ensemble import RandomForestRegressor\n",
    "from sklearn.metrics import roc_auc_score\n",
    "\n",
    "OS = []\n",
    "rfr_rent = RandomForestRegressor(n_estimators=300,max_depth=10)\n",
    "\n",
    "rfr_rent.fit(x_train, y_train)\n",
    "rent_score = rfr_rent.score(x_test, y_test)\n",
    "  "
   ]
  },
  {
   "cell_type": "code",
   "execution_count": null,
   "metadata": {},
   "outputs": [],
   "source": [
    "rent_score"
   ]
  },
  {
   "cell_type": "markdown",
   "metadata": {},
   "source": [
    "### Return RFR"
   ]
  },
  {
   "cell_type": "code",
   "execution_count": null,
   "metadata": {},
   "outputs": [],
   "source": [
    "rfr_return = RandomForestRegressor(n_estimators=300,max_depth=10)\n",
    "\n",
    "rfr_return.fit(return_x_train, return_y_train)\n",
    "return_score = rfr_return.score(return_x_test, return_y_test)\n"
   ]
  },
  {
   "cell_type": "code",
   "execution_count": null,
   "metadata": {},
   "outputs": [],
   "source": [
    "return_score"
   ]
  },
  {
   "cell_type": "code",
   "execution_count": 120,
   "metadata": {},
   "outputs": [],
   "source": [
    "from sklearn import preprocessing\n",
    "\n",
    "# temp = res.iloc[:,1:]\n",
    "# temp['holiday'] = temp['holiday'].astype('category').cat.codes\n",
    "# x_temp = pd.get_dummies(temp)\n",
    "\n",
    "# x_temp.head()"
   ]
  },
  {
   "cell_type": "code",
   "execution_count": 121,
   "metadata": {},
   "outputs": [],
   "source": [
    "#Whitening+ extract precipaccumulation\n",
    "# x_temp[['apparent_temperature',\\\n",
    "#        'cloud_cover', 'humidity', 'precipAccumulation', 'precip_intensity',\\\n",
    "#        'temperature', 'uv_index', 'visibility', 'wind_speed',]] = \\\n",
    "# preprocessing.scale(x_temp[['apparent_temperature',\\\n",
    "#        'cloud_cover', 'humidity', 'precipAccumulation', 'precip_intensity',\\\n",
    "#        'temperature', 'uv_index', 'visibility', 'wind_speed',]])\n",
    "\n",
    "\n",
    "# x_temp.head()"
   ]
  },
  {
   "cell_type": "code",
   "execution_count": 122,
   "metadata": {},
   "outputs": [
    {
     "data": {
      "text/plain": [
       "array([0.23430307, 0.10380016, 0.0451671 , 0.08123278, 0.00918677,\n",
       "       0.00123531, 0.01153508, 0.07808863, 0.11165856, 0.02828313,\n",
       "       0.09070764, 0.00088497, 0.03613078, 0.14145386, 0.02633215])"
      ]
     },
     "execution_count": 122,
     "metadata": {},
     "output_type": "execute_result"
    }
   ],
   "source": [
    "rfr_rent.feature_importances_"
   ]
  },
  {
   "cell_type": "code",
   "execution_count": 123,
   "metadata": {},
   "outputs": [
    {
     "data": {
      "text/plain": [
       "array([0.1853444 , 0.09805124, 0.04125558, 0.07767934, 0.01604533,\n",
       "       0.00254128, 0.02185519, 0.08099061, 0.07631418, 0.02925463,\n",
       "       0.15351587, 0.00042655, 0.03825084, 0.15053037, 0.02794459])"
      ]
     },
     "execution_count": 123,
     "metadata": {},
     "output_type": "execute_result"
    }
   ],
   "source": [
    "rfr_return.feature_importances_"
   ]
  },
  {
   "cell_type": "markdown",
   "metadata": {},
   "source": [
    "## Gradient Boosting on Regression Tree"
   ]
  },
  {
   "cell_type": "code",
   "execution_count": 124,
   "metadata": {},
   "outputs": [],
   "source": [
    "# DO NOT RERUN!!!\n",
    "#plot the accuracy\n",
    "from sklearn.ensemble import GradientBoostingRegressor\n",
    "\n",
    "\n",
    "OS = []\n",
    "\n",
    "rent_clf = GradientBoostingRegressor(n_estimators=2000, alpha = 0.01) \n",
    "rent_clf.fit(x_train, y_train)\n",
    "MSE=RMSLE(y_train, rent_clf.predict(x_train))\n",
    "OS.append(MSE)\n"
   ]
  },
  {
   "cell_type": "code",
   "execution_count": 125,
   "metadata": {},
   "outputs": [
    {
     "name": "stdout",
     "output_type": "stream",
     "text": [
      "[0.39848039063792623]\n"
     ]
    }
   ],
   "source": [
    "print(OS)"
   ]
  },
  {
   "cell_type": "markdown",
   "metadata": {},
   "source": [
    "### Return CLF"
   ]
  },
  {
   "cell_type": "code",
   "execution_count": 126,
   "metadata": {},
   "outputs": [],
   "source": [
    "OS = []\n",
    "# for c in N:\n",
    "# c = int(c)\n",
    "return_clf = GradientBoostingRegressor(n_estimators=2000, alpha = 0.01) \n",
    "return_clf.fit(return_x_train, return_y_train)\n",
    "MSE=RMSLE(return_y_train, return_clf.predict(return_x_train))"
   ]
  },
  {
   "cell_type": "markdown",
   "metadata": {},
   "source": [
    "## SVR"
   ]
  },
  {
   "cell_type": "code",
   "execution_count": null,
   "metadata": {},
   "outputs": [
    {
     "name": "stdout",
     "output_type": "stream",
     "text": [
      "Fitting 5 folds for each of 8 candidates, totalling 40 fits\n"
     ]
    },
    {
     "name": "stderr",
     "output_type": "stream",
     "text": [
      "[Parallel(n_jobs=-1)]: Using backend LokyBackend with 8 concurrent workers.\n"
     ]
    }
   ],
   "source": [
    "#find the best\n",
    "from sklearn.svm import SVR\n",
    "from sklearn.metrics import make_scorer\n",
    "from sklearn.model_selection import GridSearchCV\n",
    "\n",
    "rmsle_scorer=make_scorer(RMSLE,greater_is_better=False)\n",
    "\n",
    "rg_svr=SVR()\n",
    "param={'C': np.logspace(-3, 2, 2), 'gamma': np.logspace(-3, 2, 2), 'kernel' :['rbf','sigmoid']}\n",
    "grid_4_cs=GridSearchCV(rg_svr,param_grid=param,scoring=rmsle_scorer,cv=5,n_jobs=-1,verbose=2)\n",
    "grid_4_cs.fit(x_train, y_train)\n",
    "print (\"Best params\",grid_4_cs.best_params_)\n",
    "print (\"RMSLE score for casual train %f\" %(RMSLE(y_train, grid_4_cs.predict(x_train))))\n",
    "print (\"RMSLE score for casual test %f\" %(RMSLE(y_test, grid_4_cs.predict(x_test))))"
   ]
  },
  {
   "cell_type": "code",
   "execution_count": null,
   "metadata": {},
   "outputs": [],
   "source": [
    "#plot the accuracy\n",
    "C = np.logspace(-3, 2, 6)\n",
    "OS = []\n",
    "for c in C:\n",
    "    clf = svm.SVR(kernel='sigmoid',C=c) \n",
    "    clf.fit(x_train, y_train)\n",
    "    MSE= RMSLE(y_train, grid_4_cs.predict(x_train))\n",
    "    OS.append(MSE)\n",
    "\n",
    "plt.gca()\n",
    "plt.plot(np.logspace(-3, 2, 6),OS)\n",
    "plt.xlabel(\"log C\")\n",
    "plt.ylabel(\"OS accuracy\")\n",
    "plt.title(\"Accuracy vs. penalization constant (log C)\")\n",
    "\n",
    "plt.show()"
   ]
  },
  {
   "cell_type": "code",
   "execution_count": null,
   "metadata": {},
   "outputs": [],
   "source": [
    "#need modified according to the previous result\n",
    "from sklearn.svm import SVR\n",
    "#need to change the kernel from Gaussian Kernel to RBM\n",
    "svr = SVR(kernel='sigmoid',C=np.log(2))#\n",
    "y_train_Log = np.log1p(y_train)\n",
    "svr.fit(x_train,y_train_Log)\n",
    "y_test_Log = np.log1p(y_test)\n",
    "preds = svr.predict(X= x_test)\n",
    "print (\"RMSLE Value For Gradient Boost: \",RMSLE(y_test,preds,False))"
   ]
  },
  {
   "cell_type": "code",
   "execution_count": null,
   "metadata": {},
   "outputs": [],
   "source": [
    "imshow(confusion_matrix(np.exp(y_test_Log),np.exp(preds)))"
   ]
  },
  {
   "cell_type": "markdown",
   "metadata": {},
   "source": [
    "## Dock Prediction"
   ]
  },
  {
   "cell_type": "code",
   "execution_count": 31,
   "metadata": {},
   "outputs": [],
   "source": [
    "from datetime import datetime\n",
    "import requests\n",
    "import holidays"
   ]
  },
  {
   "cell_type": "code",
   "execution_count": 65,
   "metadata": {},
   "outputs": [],
   "source": [
    "def weatherdata(apikey,timestamp):\n",
    "    '''get hourly data for this day \n",
    "    apikey:Darksky api 1000/day \n",
    "    timestamp: unix time'''\n",
    "\n",
    "    r = requests.get('https://api.darksky.net/forecast/'+ \\\n",
    "                     apikey +'/42.3601,-71.0589,'+ \"1\"+ str(timestamp) + '?', auth=('user', 'pass'))\n",
    "    temp = r.json()\n",
    "    t = temp['hourly']['data']\n",
    "    return t"
   ]
  },
  {
   "cell_type": "code",
   "execution_count": 67,
   "metadata": {},
   "outputs": [],
   "source": [
    "apikey6 = 'ace6c9f9642da5c3b2a158ead33aa0d1'\n",
    "\n",
    "r = weatherdata(apikey6, 458363600)"
   ]
  },
  {
   "cell_type": "code",
   "execution_count": 76,
   "metadata": {},
   "outputs": [],
   "source": [
    "\n",
    "\n",
    "us_holidays = holidays.US()"
   ]
  },
  {
   "cell_type": "code",
   "execution_count": 42,
   "metadata": {},
   "outputs": [
    {
     "data": {
      "text/plain": [
       "start_station_id          int64\n",
       "apparent_temperature    float64\n",
       "cloud_cover             float64\n",
       "humidity                float64\n",
       "icon_code                  int8\n",
       "precipAccumulation      float64\n",
       "precip_intensity        float64\n",
       "temperature             float64\n",
       "uv_index                float64\n",
       "visibility              float64\n",
       "wind_speed              float64\n",
       "holiday_code               int8\n",
       "weekday_code               int8\n",
       "startzip                float64\n",
       "startsaleprice          float64\n",
       "dtype: object"
      ]
     },
     "execution_count": 42,
     "metadata": {},
     "output_type": "execute_result"
    }
   ],
   "source": [
    "x_train.dtypes"
   ]
  },
  {
   "cell_type": "code",
   "execution_count": 81,
   "metadata": {},
   "outputs": [
    {
     "name": "stdout",
     "output_type": "stream",
     "text": [
      "False\n"
     ]
    }
   ],
   "source": [
    "print  datetime.fromtimestamp(1458360000).date() in us_holidays"
   ]
  },
  {
   "cell_type": "code",
   "execution_count": 102,
   "metadata": {},
   "outputs": [],
   "source": [
    "def dockAvailPred(start_time_stampe = 1458360000, station_id = 229, init_avaiable_dock = None):\n",
    "    init_dock = 10\n",
    "    if init_avaiable_dock:\n",
    "        init_dock = init_avaiable_dock\n",
    "\n",
    "    dt_object = datetime.fromtimestamp(start_time_stampe)  \n",
    "    res = []\n",
    "\n",
    "    holiday = datetime.fromtimestamp(start_time_stampe).date() in us_holidays\n",
    "    for hour in range(24):\n",
    "        weather_data = r[hour]       \n",
    "        x = {\n",
    "            'start_station_id': station_id, \n",
    "            'apparent_temperature': weather_data['apparentTemperature'],\n",
    "            'cloud_cover': weather_data['cloudCover'], \n",
    "            'humidity': weather_data['humidity'], \n",
    "            'icon_code':  icon_map[r[0]['icon']], \n",
    "            'precipAccumulation': weather_data['precipProbability'],\n",
    "            'precip_intensity': weather_data['precipIntensity'], \n",
    "            'temperature': weather_data['temperature'], \n",
    "            'uv_index': weather_data['uvIndex'], \n",
    "            'visibility': weather_data['visibility'],\n",
    "            'wind_speed': weather_data['windSpeed'], \n",
    "            'holiday_code': holiday_map[holiday], \n",
    "            'weekday_code': dt_object.weekday(), \n",
    "            'startzip': station_zipcode_map[station_id],\n",
    "            'startsaleprice':station_salesprice_map[station_id]\n",
    "\n",
    "        }\n",
    "        x_pred = pd.DataFrame(x, index=[0])\n",
    "        y_pred_rent = rent_clf.predict(x_pred)[0]\n",
    "        y_pred_return = return_clf.predict(x_pred)[0]\n",
    "        res.append({\n",
    "            'rent' : y_pred_rent,\n",
    "            'return': y_pred_return,\n",
    "            'available': init_dock + y_pred_return - y_pred_rent\n",
    "        })\n",
    "        init_dock = init_dock + y_pred_return - y_pred_rent\n",
    "    return res"
   ]
  },
  {
   "cell_type": "code",
   "execution_count": 103,
   "metadata": {},
   "outputs": [],
   "source": [
    "pred_info = dockAvailPred()"
   ]
  },
  {
   "cell_type": "code",
   "execution_count": 104,
   "metadata": {},
   "outputs": [
    {
     "name": "stdout",
     "output_type": "stream",
     "text": [
      "[{'available': 11.854788694495669, 'return': 7.072163888233733, 'rent': 5.217375193738063}, {'available': 13.70957738899134, 'return': 7.072163888233733, 'rent': 5.217375193738063}, {'available': 15.53203892891133, 'return': 7.036162362062639, 'rent': 5.2137008221426475}, {'available': 17.413091435275206, 'return': 7.09639432466569, 'rent': 5.215341818301814}, {'available': 19.267880129770873, 'return': 7.072163888233733, 'rent': 5.217375193738063}, {'available': 21.231614519895487, 'return': 7.157014046312758, 'rent': 5.193279656188144}, {'available': 23.19905676383431, 'return': 7.141699799401918, 'rent': 5.174257555463097}, {'available': 25.05384545832998, 'return': 7.072163888233733, 'rent': 5.217375193738063}, {'available': 26.70913531189261, 'return': 7.042430461841069, 'rent': 5.387140608278444}, {'available': 28.37119564102565, 'return': 6.819362959634657, 'rent': 5.1573026305016185}, {'available': 30.382697709807157, 'return': 6.864679365477477, 'rent': 4.853177296695972}, {'available': 32.437186482221584, 'return': 6.850065684742044, 'rent': 4.795576912327616}, {'available': 34.548083868267994, 'return': 7.072304081866408, 'rent': 4.961406695819993}, {'available': 36.97094415508689, 'return': 7.449676331255194, 'rent': 5.026816044436296}, {'available': 39.21528507482864, 'return': 7.2541381454539025, 'rent': 5.009797225712151}, {'available': 41.51721767140139, 'return': 7.311729822284894, 'rent': 5.009797225712151}, {'available': 43.9451581263747, 'return': 7.536500076203314, 'rent': 5.108559621230008}, {'available': 46.37137792271406, 'return': 7.534779417569368, 'rent': 5.108559621230008}, {'available': 48.69425200374227, 'return': 7.754638853633754, 'rent': 5.431764772605539}, {'available': 50.788379086930185, 'return': 7.489501605013562, 'rent': 5.3953745218256515}, {'available': 52.88728663802507, 'return': 7.43190992818257, 'rent': 5.333002377087685}, {'available': 54.790673159029986, 'return': 7.252760007695825, 'rent': 5.349373486690911}, {'available': 56.54081481825679, 'return': 7.034753506422332, 'rent': 5.284611847195528}, {'available': 58.46340606454045, 'return': 7.027837467470712, 'rent': 5.10524622118705}]\n"
     ]
    }
   ],
   "source": [
    "print(pred_info)"
   ]
  },
  {
   "cell_type": "code",
   "execution_count": null,
   "metadata": {},
   "outputs": [],
   "source": []
  }
 ],
 "metadata": {
  "kernelspec": {
   "display_name": "Python 2",
   "language": "python",
   "name": "python2"
  },
  "language_info": {
   "codemirror_mode": {
    "name": "ipython",
    "version": 2
   },
   "file_extension": ".py",
   "mimetype": "text/x-python",
   "name": "python",
   "nbconvert_exporter": "python",
   "pygments_lexer": "ipython2",
   "version": "2.7.15"
  }
 },
 "nbformat": 4,
 "nbformat_minor": 2
}
